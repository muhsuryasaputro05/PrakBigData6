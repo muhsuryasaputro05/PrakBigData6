{
 "cells": [
  {
   "cell_type": "markdown",
   "metadata": {},
   "source": [
    "Tugas 1"
   ]
  },
  {
   "cell_type": "code",
   "execution_count": 1,
   "metadata": {},
   "outputs": [
    {
     "name": "stdout",
     "output_type": "stream",
     "text": [
      "+---------+------------------+----------+\n",
      "|NamaSiswa|           Jurusan|NilaiAkhir|\n",
      "+---------+------------------+----------+\n",
      "|     Andi|Teknik Informatika|        85|\n",
      "|     Budi|  Sistem Informasi|        90|\n",
      "|    Citra|Teknik Informatika|        78|\n",
      "|     Dewi|  Sistem Informasi|        92|\n",
      "|      Eko|    Teknik Elektro|        88|\n",
      "|     Fani|    Teknik Elektro|        76|\n",
      "|     Gina|  Sistem Informasi|        95|\n",
      "|     Hadi|Teknik Informatika|        83|\n",
      "|      Ira|    Teknik Elektro|        80|\n",
      "|     Joko|  Sistem Informasi|        89|\n",
      "|     Kiki|Teknik Informatika|        91|\n",
      "|     Lina|    Teknik Elektro|        85|\n",
      "+---------+------------------+----------+\n",
      "\n"
     ]
    }
   ],
   "source": [
    "import findspark\n",
    "findspark.init()\n",
    "\n",
    "from pyspark.sql import SparkSession\n",
    "\n",
    "# Inisialisasi SparkSession\n",
    "spark = SparkSession.builder.appName('TugasPertemuan6').getOrCreate()\n",
    "\n",
    "# Data untuk DataFrame yang lebih besar\n",
    "data = [\n",
    "    ('Andi', 'Teknik Informatika', 85),\n",
    "    ('Budi', 'Sistem Informasi', 90),\n",
    "    ('Citra', 'Teknik Informatika', 78),\n",
    "    ('Dewi', 'Sistem Informasi', 92),\n",
    "    ('Eko', 'Teknik Elektro', 88),\n",
    "    ('Fani', 'Teknik Elektro', 76),\n",
    "    ('Gina', 'Sistem Informasi', 95),\n",
    "    ('Hadi', 'Teknik Informatika', 83),\n",
    "    ('Ira', 'Teknik Elektro', 80),\n",
    "    ('Joko', 'Sistem Informasi', 89),\n",
    "    ('Kiki', 'Teknik Informatika', 91),\n",
    "    ('Lina', 'Teknik Elektro', 85)\n",
    "]\n",
    "\n",
    "# Skema kolom\n",
    "columns = ['NamaSiswa', 'Jurusan', 'NilaiAkhir']\n",
    "\n",
    "# Membuat DataFrame\n",
    "df = spark.createDataFrame(data, schema=columns)\n",
    "\n",
    "# Menampilkan DataFrame\n",
    "df.show()"
   ]
  },
  {
   "cell_type": "markdown",
   "metadata": {},
   "source": [
    "Tugas 2"
   ]
  },
  {
   "cell_type": "code",
   "execution_count": 2,
   "metadata": {},
   "outputs": [
    {
     "name": "stdout",
     "output_type": "stream",
     "text": [
      "Siswa dengan Nilai Akhir > 85:\n",
      "+---------+------------------+----------+\n",
      "|NamaSiswa|           Jurusan|NilaiAkhir|\n",
      "+---------+------------------+----------+\n",
      "|     Budi|  Sistem Informasi|        90|\n",
      "|     Dewi|  Sistem Informasi|        92|\n",
      "|      Eko|    Teknik Elektro|        88|\n",
      "|     Gina|  Sistem Informasi|        95|\n",
      "|     Joko|  Sistem Informasi|        89|\n",
      "|     Kiki|Teknik Informatika|        91|\n",
      "+---------+------------------+----------+\n",
      "\n",
      " Nama Siswa dan Nilai Akhir:\n",
      "+---------+----------+\n",
      "|NamaSiswa|NilaiAkhir|\n",
      "+---------+----------+\n",
      "|     Andi|        85|\n",
      "|     Budi|        90|\n",
      "|    Citra|        78|\n",
      "|     Dewi|        92|\n",
      "|      Eko|        88|\n",
      "|     Fani|        76|\n",
      "|     Gina|        95|\n",
      "|     Hadi|        83|\n",
      "|      Ira|        80|\n",
      "|     Joko|        89|\n",
      "|     Kiki|        91|\n",
      "|     Lina|        85|\n",
      "+---------+----------+\n",
      "\n",
      "Rata-rata Nilai Akhir per Jurusan:\n",
      "+------------------+---------------+\n",
      "|           Jurusan|avg(NilaiAkhir)|\n",
      "+------------------+---------------+\n",
      "|Teknik Informatika|          84.25|\n",
      "|  Sistem Informasi|           91.5|\n",
      "|    Teknik Elektro|          82.25|\n",
      "+------------------+---------------+\n",
      "\n",
      "Nilai Tertinggi per Jurusan:\n",
      "+------------------+---------------+\n",
      "|           Jurusan|max(NilaiAkhir)|\n",
      "+------------------+---------------+\n",
      "|Teknik Informatika|             91|\n",
      "|  Sistem Informasi|             95|\n",
      "|    Teknik Elektro|             88|\n",
      "+------------------+---------------+\n",
      "\n",
      "Total Nilai Akhir per Jurusan:\n",
      "+------------------+---------------+\n",
      "|           Jurusan|sum(NilaiAkhir)|\n",
      "+------------------+---------------+\n",
      "|Teknik Informatika|            337|\n",
      "|  Sistem Informasi|            366|\n",
      "|    Teknik Elektro|            329|\n",
      "+------------------+---------------+\n",
      "\n",
      "Rata-rata, Nilai Maksimum, dan Total Nilai Akhir per Jurusan:\n",
      "+------------------+---------------+\n",
      "|           Jurusan|sum(NilaiAkhir)|\n",
      "+------------------+---------------+\n",
      "|Teknik Informatika|            337|\n",
      "|  Sistem Informasi|            366|\n",
      "|    Teknik Elektro|            329|\n",
      "+------------------+---------------+\n",
      "\n"
     ]
    }
   ],
   "source": [
    "# Filter siswa dengan nilai lebih dari 85\n",
    "print(\"Siswa dengan Nilai Akhir > 85:\")\n",
    "df.filter(df[\"NilaiAkhir\"] > 85).show()\n",
    "\n",
    "# Select kolom NamaSiswa dan NilaiAkhir\n",
    "print(\" Nama Siswa dan Nilai Akhir:\")\n",
    "df.select(\"NamaSiswa\", \"NilaiAkhir\").show()\n",
    "\n",
    "# GroupBy berdasarkan Jurusan dan menghitung rata-rata Nilai Akhir\n",
    "print(\"Rata-rata Nilai Akhir per Jurusan:\")\n",
    "df.groupBy(\"Jurusan\").mean(\"NilaiAkhir\").show()\n",
    "\n",
    "# GroupBy berdasarkan Jurusan dan mencari nilai tertinggi\n",
    "print(\"Nilai Tertinggi per Jurusan:\")\n",
    "df.groupBy(\"Jurusan\").max(\"NilaiAkhir\").show()\n",
    "\n",
    "# GroupBy berdasarkan Jurusan dan menghitung total Nilai Akhir\n",
    "print(\"Total Nilai Akhir per Jurusan:\")\n",
    "df.groupBy(\"Jurusan\").sum(\"NilaiAkhir\").show()\n",
    "\n",
    "#  Menggabungkan mean, max, dan sum dalam satu operasi groupBy\n",
    "print(\"Rata-rata, Nilai Maksimum, dan Total Nilai Akhir per Jurusan:\")\n",
    "df.groupBy(\"Jurusan\").agg(\n",
    "    {\"NilaiAkhir\": \"mean\", \"NilaiAkhir\": \"max\", \"NilaiAkhir\": \"sum\"}\n",
    ").show()"
   ]
  },
  {
   "cell_type": "markdown",
   "metadata": {},
   "source": [
    "Tugas 3"
   ]
  },
  {
   "cell_type": "code",
   "execution_count": 3,
   "metadata": {},
   "outputs": [
    {
     "name": "stdout",
     "output_type": "stream",
     "text": [
      "+---------+------------------+----------+------------------+----------+\n",
      "|NamaSiswa|           Jurusan|NilaiAkhir|        BonusNilai|TotalNilai|\n",
      "+---------+------------------+----------+------------------+----------+\n",
      "|     Andi|Teknik Informatika|        85|               8.5|      93.5|\n",
      "|     Budi|  Sistem Informasi|        90|               9.0|      99.0|\n",
      "|    Citra|Teknik Informatika|        78| 7.800000000000001|      85.8|\n",
      "|     Dewi|  Sistem Informasi|        92| 9.200000000000001|     101.2|\n",
      "|      Eko|    Teknik Elektro|        88|               8.8|      96.8|\n",
      "|     Fani|    Teknik Elektro|        76|7.6000000000000005|      83.6|\n",
      "|     Gina|  Sistem Informasi|        95|               9.5|     104.5|\n",
      "|     Hadi|Teknik Informatika|        83|               8.3|      91.3|\n",
      "|      Ira|    Teknik Elektro|        80|               8.0|      88.0|\n",
      "|     Joko|  Sistem Informasi|        89|               8.9|      97.9|\n",
      "|     Kiki|Teknik Informatika|        91|               9.1|     100.1|\n",
      "|     Lina|    Teknik Elektro|        85|               8.5|      93.5|\n",
      "+---------+------------------+----------+------------------+----------+\n",
      "\n"
     ]
    }
   ],
   "source": [
    "# Menambahkan kolom bonus nilai (10% dari NilaiAkhir)\n",
    "df = df.withColumn('BonusNilai', df['NilaiAkhir'] * 0.1)\n",
    "\n",
    "# Menambahkan kolom total nilai (NilaiAkhir + BonusNilai)\n",
    "df = df.withColumn('TotalNilai', df['NilaiAkhir'] + df['BonusNilai'])\n",
    "\n",
    "# Menampilkan DataFrame dengan kolom baru\n",
    "df.show()"
   ]
  },
  {
   "cell_type": "markdown",
   "metadata": {},
   "source": [
    "Tugas 4"
   ]
  },
  {
   "cell_type": "code",
   "execution_count": 4,
   "metadata": {},
   "outputs": [
    {
     "name": "stdout",
     "output_type": "stream",
     "text": [
      "+---------+------------------+----------+------------------+----------+------------+\n",
      "|NamaSiswa|           Jurusan|NilaiAkhir|        BonusNilai|TotalNilai|RunningTotal|\n",
      "+---------+------------------+----------+------------------+----------+------------+\n",
      "|     Joko|  Sistem Informasi|        89|               8.9|      97.9|          89|\n",
      "|     Budi|  Sistem Informasi|        90|               9.0|      99.0|         179|\n",
      "|     Dewi|  Sistem Informasi|        92| 9.200000000000001|     101.2|         271|\n",
      "|     Gina|  Sistem Informasi|        95|               9.5|     104.5|         366|\n",
      "|     Fani|    Teknik Elektro|        76|7.6000000000000005|      83.6|          76|\n",
      "|      Ira|    Teknik Elektro|        80|               8.0|      88.0|         156|\n",
      "|     Lina|    Teknik Elektro|        85|               8.5|      93.5|         241|\n",
      "|      Eko|    Teknik Elektro|        88|               8.8|      96.8|         329|\n",
      "|    Citra|Teknik Informatika|        78| 7.800000000000001|      85.8|          78|\n",
      "|     Hadi|Teknik Informatika|        83|               8.3|      91.3|         161|\n",
      "|     Andi|Teknik Informatika|        85|               8.5|      93.5|         246|\n",
      "|     Kiki|Teknik Informatika|        91|               9.1|     100.1|         337|\n",
      "+---------+------------------+----------+------------------+----------+------------+\n",
      "\n"
     ]
    }
   ],
   "source": [
    "from pyspark.sql.window import Window\n",
    "from pyspark.sql import functions as F\n",
    "\n",
    "# Definisikan window berdasarkan partisi 'Jurusan' dan urutkan berdasarkan 'NilaiAkhir'\n",
    "windowSpec = Window.partitionBy(\"Jurusan\").orderBy(\"NilaiAkhir\")\n",
    "\n",
    "# Hitung running total (jumlah kumulatif) dari NilaiAkhir\n",
    "df = df.withColumn(\"RunningTotal\", F.sum(\"NilaiAkhir\").over(windowSpec))\n",
    "\n",
    "# Menampilkan DataFrame dengan kolom RunningTotal\n",
    "df.show()"
   ]
  }
 ],
 "metadata": {
  "kernelspec": {
   "display_name": "PrakBigData",
   "language": "python",
   "name": "python3"
  },
  "language_info": {
   "codemirror_mode": {
    "name": "ipython",
    "version": 3
   },
   "file_extension": ".py",
   "mimetype": "text/x-python",
   "name": "python",
   "nbconvert_exporter": "python",
   "pygments_lexer": "ipython3",
   "version": "3.11.9"
  }
 },
 "nbformat": 4,
 "nbformat_minor": 2
}
